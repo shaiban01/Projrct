{
  "nbformat": 4,
  "nbformat_minor": 0,
  "metadata": {
    "colab": {
      "name": "pandas.ipynb",
      "provenance": [],
      "collapsed_sections": [],
      "authorship_tag": "ABX9TyNXsHVWoiLZKTNS6zHW8ngr",
      "include_colab_link": true
    },
    "kernelspec": {
      "name": "python3",
      "display_name": "Python 3"
    }
  },
  "cells": [
    {
      "cell_type": "markdown",
      "metadata": {
        "id": "view-in-github",
        "colab_type": "text"
      },
      "source": [
        "<a href=\"https://colab.research.google.com/github/shaiban01/Projrct/blob/master/pandas.ipynb\" target=\"_parent\"><img src=\"https://colab.research.google.com/assets/colab-badge.svg\" alt=\"Open In Colab\"/></a>"
      ]
    },
    {
      "cell_type": "code",
      "metadata": {
        "id": "j3EwtuqFkLzf",
        "colab_type": "code",
        "colab": {}
      },
      "source": [
        ""
      ],
      "execution_count": 0,
      "outputs": []
    },
    {
      "cell_type": "markdown",
      "metadata": {
        "id": "WeOZb7EclilT",
        "colab_type": "text"
      },
      "source": [
        "pandas is a fast, powerful, flexible and easy to use open source data analysis and manipulation tool,\n",
        "built on top of the Python programming language."
      ]
    },
    {
      "cell_type": "code",
      "metadata": {
        "id": "5VYOS30zkeQH",
        "colab_type": "code",
        "colab": {}
      },
      "source": [
        ""
      ],
      "execution_count": 0,
      "outputs": []
    },
    {
      "cell_type": "markdown",
      "metadata": {
        "id": "CA2f5aVVoXrl",
        "colab_type": "text"
      },
      "source": [
        " we import pandas as follows"
      ]
    },
    {
      "cell_type": "code",
      "metadata": {
        "id": "KrCXQYQSoiA7",
        "colab_type": "code",
        "colab": {}
      },
      "source": [
        "import pandas as pd"
      ],
      "execution_count": 0,
      "outputs": []
    },
    {
      "cell_type": "markdown",
      "metadata": {
        "id": "gSoNQIy8o6rj",
        "colab_type": "text"
      },
      "source": [
        "Insert csv and text file"
      ]
    },
    {
      "cell_type": "code",
      "metadata": {
        "id": "SlFYSp1rpH15",
        "colab_type": "code",
        "colab": {
          "base_uri": "https://localhost:8080/",
          "height": 180
        },
        "outputId": "b4d49007-44ad-4070-f3d8-4af803cbdb5e"
      },
      "source": [
        "import pandas as pd\n",
        "df=pd.read_csv()#Enter a path to a file,URL,(including http, ftp, and  locations), \n"
      ],
      "execution_count": 2,
      "outputs": [
        {
          "output_type": "error",
          "ename": "TypeError",
          "evalue": "ignored",
          "traceback": [
            "\u001b[0;31m---------------------------------------------------------------------------\u001b[0m",
            "\u001b[0;31mTypeError\u001b[0m                                 Traceback (most recent call last)",
            "\u001b[0;32m<ipython-input-2-b3cb74a7c7b3>\u001b[0m in \u001b[0;36m<module>\u001b[0;34m()\u001b[0m\n\u001b[1;32m      1\u001b[0m \u001b[0;32mimport\u001b[0m \u001b[0mpandas\u001b[0m \u001b[0;32mas\u001b[0m \u001b[0mpd\u001b[0m\u001b[0;34m\u001b[0m\u001b[0;34m\u001b[0m\u001b[0m\n\u001b[0;32m----> 2\u001b[0;31m \u001b[0mdf\u001b[0m\u001b[0;34m=\u001b[0m\u001b[0mpd\u001b[0m\u001b[0;34m.\u001b[0m\u001b[0mread_csv\u001b[0m\u001b[0;34m(\u001b[0m\u001b[0;34m)\u001b[0m\u001b[0;31m#Enter a path to a file,URL,(including http, ftp, and  locations),\u001b[0m\u001b[0;34m\u001b[0m\u001b[0;34m\u001b[0m\u001b[0m\n\u001b[0m",
            "\u001b[0;31mTypeError\u001b[0m: parser_f() missing 1 required positional argument: 'filepath_or_buffer'"
          ]
        }
      ]
    },
    {
      "cell_type": "code",
      "metadata": {
        "id": "TC_b5_-bGUB2",
        "colab_type": "code",
        "colab": {
          "base_uri": "https://localhost:8080/",
          "height": 266
        },
        "outputId": "07307e0c-2095-4b3f-c371-af55f99a5766"
      },
      "source": [
        "import pandas as pd\n",
        "import numpy as np\n",
        "dates = pd.date_range('1/1/2000', periods=7)\n",
        "df = pd.DataFrame(np.random.randn(7, 4),\n",
        "                   index=dates, columns=['A', 'B', 'C', 'D'])\n",
        "df"
      ],
      "execution_count": 28,
      "outputs": [
        {
          "output_type": "execute_result",
          "data": {
            "text/html": [
              "<div>\n",
              "<style scoped>\n",
              "    .dataframe tbody tr th:only-of-type {\n",
              "        vertical-align: middle;\n",
              "    }\n",
              "\n",
              "    .dataframe tbody tr th {\n",
              "        vertical-align: top;\n",
              "    }\n",
              "\n",
              "    .dataframe thead th {\n",
              "        text-align: right;\n",
              "    }\n",
              "</style>\n",
              "<table border=\"1\" class=\"dataframe\">\n",
              "  <thead>\n",
              "    <tr style=\"text-align: right;\">\n",
              "      <th></th>\n",
              "      <th>A</th>\n",
              "      <th>B</th>\n",
              "      <th>C</th>\n",
              "      <th>D</th>\n",
              "    </tr>\n",
              "  </thead>\n",
              "  <tbody>\n",
              "    <tr>\n",
              "      <th>2000-01-01</th>\n",
              "      <td>-1.410830</td>\n",
              "      <td>-0.803818</td>\n",
              "      <td>-0.562346</td>\n",
              "      <td>-0.208190</td>\n",
              "    </tr>\n",
              "    <tr>\n",
              "      <th>2000-01-02</th>\n",
              "      <td>-1.326278</td>\n",
              "      <td>-1.528066</td>\n",
              "      <td>0.424585</td>\n",
              "      <td>0.216488</td>\n",
              "    </tr>\n",
              "    <tr>\n",
              "      <th>2000-01-03</th>\n",
              "      <td>-1.573019</td>\n",
              "      <td>1.438638</td>\n",
              "      <td>0.969528</td>\n",
              "      <td>-0.984076</td>\n",
              "    </tr>\n",
              "    <tr>\n",
              "      <th>2000-01-04</th>\n",
              "      <td>-1.040601</td>\n",
              "      <td>-0.554197</td>\n",
              "      <td>0.130198</td>\n",
              "      <td>-0.005332</td>\n",
              "    </tr>\n",
              "    <tr>\n",
              "      <th>2000-01-05</th>\n",
              "      <td>-2.595959</td>\n",
              "      <td>-0.526549</td>\n",
              "      <td>-0.205453</td>\n",
              "      <td>1.025349</td>\n",
              "    </tr>\n",
              "    <tr>\n",
              "      <th>2000-01-06</th>\n",
              "      <td>0.418731</td>\n",
              "      <td>0.323344</td>\n",
              "      <td>-0.615373</td>\n",
              "      <td>0.788649</td>\n",
              "    </tr>\n",
              "    <tr>\n",
              "      <th>2000-01-07</th>\n",
              "      <td>-1.055913</td>\n",
              "      <td>0.998309</td>\n",
              "      <td>0.256012</td>\n",
              "      <td>-1.201292</td>\n",
              "    </tr>\n",
              "  </tbody>\n",
              "</table>\n",
              "</div>"
            ],
            "text/plain": [
              "                   A         B         C         D\n",
              "2000-01-01 -1.410830 -0.803818 -0.562346 -0.208190\n",
              "2000-01-02 -1.326278 -1.528066  0.424585  0.216488\n",
              "2000-01-03 -1.573019  1.438638  0.969528 -0.984076\n",
              "2000-01-04 -1.040601 -0.554197  0.130198 -0.005332\n",
              "2000-01-05 -2.595959 -0.526549 -0.205453  1.025349\n",
              "2000-01-06  0.418731  0.323344 -0.615373  0.788649\n",
              "2000-01-07 -1.055913  0.998309  0.256012 -1.201292"
            ]
          },
          "metadata": {
            "tags": []
          },
          "execution_count": 28
        }
      ]
    },
    {
      "cell_type": "code",
      "metadata": {
        "id": "VskIg9f4BlQ2",
        "colab_type": "code",
        "colab": {
          "base_uri": "https://localhost:8080/",
          "height": 153
        },
        "outputId": "1d69e3ee-4cdd-48d4-f941-bd24b1f83b21"
      },
      "source": [
        "import pandas as pd\n",
        "import numpy as np\n",
        "dates = pd.date_range('1/1/2000', periods=7)\n",
        "df = pd.DataFrame(np.random.randn(7, 4),\n",
        "                   index=dates, columns=['A', 'B', 'C', 'D'])\n",
        "s=df['A']\n",
        "print(s)"
      ],
      "execution_count": 29,
      "outputs": [
        {
          "output_type": "stream",
          "text": [
            "2000-01-01    2.766366\n",
            "2000-01-02   -0.611707\n",
            "2000-01-03   -0.653039\n",
            "2000-01-04   -1.685125\n",
            "2000-01-05    1.111169\n",
            "2000-01-06    0.963195\n",
            "2000-01-07    1.114622\n",
            "Freq: D, Name: A, dtype: float64\n"
          ],
          "name": "stdout"
        }
      ]
    },
    {
      "cell_type": "code",
      "metadata": {
        "id": "GM12FpDGBmQZ",
        "colab_type": "code",
        "colab": {
          "base_uri": "https://localhost:8080/",
          "height": 85
        },
        "outputId": "c4be6c78-5a70-4895-bc95-d64c95392cc3"
      },
      "source": [
        "import pandas as pd\n",
        "dates = pd.date_range('1/1/2000', periods=10)\n",
        "print(dates)"
      ],
      "execution_count": 30,
      "outputs": [
        {
          "output_type": "stream",
          "text": [
            "DatetimeIndex(['2000-01-01', '2000-01-02', '2000-01-03', '2000-01-04',\n",
            "               '2000-01-05', '2000-01-06', '2000-01-07', '2000-01-08',\n",
            "               '2000-01-09', '2000-01-10'],\n",
            "              dtype='datetime64[ns]', freq='D')\n"
          ],
          "name": "stdout"
        }
      ]
    },
    {
      "cell_type": "code",
      "metadata": {
        "id": "q5hjv5ESGP16",
        "colab_type": "code",
        "colab": {}
      },
      "source": [
        ""
      ],
      "execution_count": 0,
      "outputs": []
    },
    {
      "cell_type": "code",
      "metadata": {
        "id": "q-D6q27rFnns",
        "colab_type": "code",
        "colab": {
          "base_uri": "https://localhost:8080/",
          "height": 266
        },
        "outputId": "54ffd3dd-40fb-4c14-a76f-37bebf0f6e9c"
      },
      "source": [
        "import pandas as pd\n",
        "import numpy as np\n",
        "dates = pd.date_range('1/1/2000', periods=7)\n",
        "df = pd.DataFrame(np.random.randn(7, 4),\n",
        "                   index=dates, columns=['A', 'B', 'C', 'D'])\n",
        "df\n",
        "\n",
        "df[['B', 'A']] = df[['A', 'B']]\n",
        "df"
      ],
      "execution_count": 39,
      "outputs": [
        {
          "output_type": "execute_result",
          "data": {
            "text/html": [
              "<div>\n",
              "<style scoped>\n",
              "    .dataframe tbody tr th:only-of-type {\n",
              "        vertical-align: middle;\n",
              "    }\n",
              "\n",
              "    .dataframe tbody tr th {\n",
              "        vertical-align: top;\n",
              "    }\n",
              "\n",
              "    .dataframe thead th {\n",
              "        text-align: right;\n",
              "    }\n",
              "</style>\n",
              "<table border=\"1\" class=\"dataframe\">\n",
              "  <thead>\n",
              "    <tr style=\"text-align: right;\">\n",
              "      <th></th>\n",
              "      <th>A</th>\n",
              "      <th>B</th>\n",
              "      <th>C</th>\n",
              "      <th>D</th>\n",
              "    </tr>\n",
              "  </thead>\n",
              "  <tbody>\n",
              "    <tr>\n",
              "      <th>2000-01-01</th>\n",
              "      <td>-0.511117</td>\n",
              "      <td>-0.574289</td>\n",
              "      <td>-0.786242</td>\n",
              "      <td>-1.206041</td>\n",
              "    </tr>\n",
              "    <tr>\n",
              "      <th>2000-01-02</th>\n",
              "      <td>1.687967</td>\n",
              "      <td>0.093141</td>\n",
              "      <td>-1.598462</td>\n",
              "      <td>-0.799061</td>\n",
              "    </tr>\n",
              "    <tr>\n",
              "      <th>2000-01-03</th>\n",
              "      <td>1.286381</td>\n",
              "      <td>0.796079</td>\n",
              "      <td>-1.542750</td>\n",
              "      <td>-1.421429</td>\n",
              "    </tr>\n",
              "    <tr>\n",
              "      <th>2000-01-04</th>\n",
              "      <td>-1.395615</td>\n",
              "      <td>0.734709</td>\n",
              "      <td>1.599523</td>\n",
              "      <td>-1.350501</td>\n",
              "    </tr>\n",
              "    <tr>\n",
              "      <th>2000-01-05</th>\n",
              "      <td>-0.593843</td>\n",
              "      <td>-1.568293</td>\n",
              "      <td>0.762363</td>\n",
              "      <td>0.606229</td>\n",
              "    </tr>\n",
              "    <tr>\n",
              "      <th>2000-01-06</th>\n",
              "      <td>-1.670277</td>\n",
              "      <td>-1.080862</td>\n",
              "      <td>0.553759</td>\n",
              "      <td>-1.351316</td>\n",
              "    </tr>\n",
              "    <tr>\n",
              "      <th>2000-01-07</th>\n",
              "      <td>0.320234</td>\n",
              "      <td>-0.875427</td>\n",
              "      <td>1.023008</td>\n",
              "      <td>-0.858378</td>\n",
              "    </tr>\n",
              "  </tbody>\n",
              "</table>\n",
              "</div>"
            ],
            "text/plain": [
              "                   A         B         C         D\n",
              "2000-01-01 -0.511117 -0.574289 -0.786242 -1.206041\n",
              "2000-01-02  1.687967  0.093141 -1.598462 -0.799061\n",
              "2000-01-03  1.286381  0.796079 -1.542750 -1.421429\n",
              "2000-01-04 -1.395615  0.734709  1.599523 -1.350501\n",
              "2000-01-05 -0.593843 -1.568293  0.762363  0.606229\n",
              "2000-01-06 -1.670277 -1.080862  0.553759 -1.351316\n",
              "2000-01-07  0.320234 -0.875427  1.023008 -0.858378"
            ]
          },
          "metadata": {
            "tags": []
          },
          "execution_count": 39
        }
      ]
    },
    {
      "cell_type": "code",
      "metadata": {
        "id": "qrLIq0fvFoKU",
        "colab_type": "code",
        "colab": {
          "base_uri": "https://localhost:8080/",
          "height": 266
        },
        "outputId": "a250a2e4-29f5-4373-8491-7e8652035384"
      },
      "source": [
        "import pandas as pd\n",
        "import numpy as np\n",
        "dates = pd.date_range('1/1/2000', periods=7)\n",
        "df = pd.DataFrame(np.random.randn(7, 4),\n",
        "                   index=dates, columns=['A', 'B', 'C', 'D'])\n",
        "\n",
        "df[['A', 'B']]\n"
      ],
      "execution_count": 40,
      "outputs": [
        {
          "output_type": "execute_result",
          "data": {
            "text/html": [
              "<div>\n",
              "<style scoped>\n",
              "    .dataframe tbody tr th:only-of-type {\n",
              "        vertical-align: middle;\n",
              "    }\n",
              "\n",
              "    .dataframe tbody tr th {\n",
              "        vertical-align: top;\n",
              "    }\n",
              "\n",
              "    .dataframe thead th {\n",
              "        text-align: right;\n",
              "    }\n",
              "</style>\n",
              "<table border=\"1\" class=\"dataframe\">\n",
              "  <thead>\n",
              "    <tr style=\"text-align: right;\">\n",
              "      <th></th>\n",
              "      <th>A</th>\n",
              "      <th>B</th>\n",
              "    </tr>\n",
              "  </thead>\n",
              "  <tbody>\n",
              "    <tr>\n",
              "      <th>2000-01-01</th>\n",
              "      <td>-1.331435</td>\n",
              "      <td>-0.628969</td>\n",
              "    </tr>\n",
              "    <tr>\n",
              "      <th>2000-01-02</th>\n",
              "      <td>1.048229</td>\n",
              "      <td>-0.550039</td>\n",
              "    </tr>\n",
              "    <tr>\n",
              "      <th>2000-01-03</th>\n",
              "      <td>1.068826</td>\n",
              "      <td>-0.203848</td>\n",
              "    </tr>\n",
              "    <tr>\n",
              "      <th>2000-01-04</th>\n",
              "      <td>0.557016</td>\n",
              "      <td>1.216893</td>\n",
              "    </tr>\n",
              "    <tr>\n",
              "      <th>2000-01-05</th>\n",
              "      <td>0.096879</td>\n",
              "      <td>-1.794113</td>\n",
              "    </tr>\n",
              "    <tr>\n",
              "      <th>2000-01-06</th>\n",
              "      <td>0.031969</td>\n",
              "      <td>-0.644693</td>\n",
              "    </tr>\n",
              "    <tr>\n",
              "      <th>2000-01-07</th>\n",
              "      <td>-2.612186</td>\n",
              "      <td>1.276207</td>\n",
              "    </tr>\n",
              "  </tbody>\n",
              "</table>\n",
              "</div>"
            ],
            "text/plain": [
              "                   A         B\n",
              "2000-01-01 -1.331435 -0.628969\n",
              "2000-01-02  1.048229 -0.550039\n",
              "2000-01-03  1.068826 -0.203848\n",
              "2000-01-04  0.557016  1.216893\n",
              "2000-01-05  0.096879 -1.794113\n",
              "2000-01-06  0.031969 -0.644693\n",
              "2000-01-07 -2.612186  1.276207"
            ]
          },
          "metadata": {
            "tags": []
          },
          "execution_count": 40
        }
      ]
    },
    {
      "cell_type": "code",
      "metadata": {
        "id": "_inBc62pFnfe",
        "colab_type": "code",
        "colab": {
          "base_uri": "https://localhost:8080/",
          "height": 266
        },
        "outputId": "74ef0feb-96a6-43be-9b62-04691f9938dd"
      },
      "source": [
        "import pandas as pd\n",
        "import numpy as np\n",
        "dates = pd.date_range('1/1/2000', periods=7)\n",
        "df = pd.DataFrame(np.random.randn(7, 4),\n",
        "                   index=dates, columns=['A', 'B', 'C', 'D'])\n",
        "\n",
        "df[['B', 'A']] \n"
      ],
      "execution_count": 41,
      "outputs": [
        {
          "output_type": "execute_result",
          "data": {
            "text/html": [
              "<div>\n",
              "<style scoped>\n",
              "    .dataframe tbody tr th:only-of-type {\n",
              "        vertical-align: middle;\n",
              "    }\n",
              "\n",
              "    .dataframe tbody tr th {\n",
              "        vertical-align: top;\n",
              "    }\n",
              "\n",
              "    .dataframe thead th {\n",
              "        text-align: right;\n",
              "    }\n",
              "</style>\n",
              "<table border=\"1\" class=\"dataframe\">\n",
              "  <thead>\n",
              "    <tr style=\"text-align: right;\">\n",
              "      <th></th>\n",
              "      <th>B</th>\n",
              "      <th>A</th>\n",
              "    </tr>\n",
              "  </thead>\n",
              "  <tbody>\n",
              "    <tr>\n",
              "      <th>2000-01-01</th>\n",
              "      <td>0.166908</td>\n",
              "      <td>-0.011235</td>\n",
              "    </tr>\n",
              "    <tr>\n",
              "      <th>2000-01-02</th>\n",
              "      <td>0.013956</td>\n",
              "      <td>-0.445204</td>\n",
              "    </tr>\n",
              "    <tr>\n",
              "      <th>2000-01-03</th>\n",
              "      <td>1.141925</td>\n",
              "      <td>2.033144</td>\n",
              "    </tr>\n",
              "    <tr>\n",
              "      <th>2000-01-04</th>\n",
              "      <td>0.816871</td>\n",
              "      <td>0.297238</td>\n",
              "    </tr>\n",
              "    <tr>\n",
              "      <th>2000-01-05</th>\n",
              "      <td>-0.430978</td>\n",
              "      <td>1.099183</td>\n",
              "    </tr>\n",
              "    <tr>\n",
              "      <th>2000-01-06</th>\n",
              "      <td>0.842892</td>\n",
              "      <td>-1.330516</td>\n",
              "    </tr>\n",
              "    <tr>\n",
              "      <th>2000-01-07</th>\n",
              "      <td>-1.791877</td>\n",
              "      <td>0.939007</td>\n",
              "    </tr>\n",
              "  </tbody>\n",
              "</table>\n",
              "</div>"
            ],
            "text/plain": [
              "                   B         A\n",
              "2000-01-01  0.166908 -0.011235\n",
              "2000-01-02  0.013956 -0.445204\n",
              "2000-01-03  1.141925  2.033144\n",
              "2000-01-04  0.816871  0.297238\n",
              "2000-01-05 -0.430978  1.099183\n",
              "2000-01-06  0.842892 -1.330516\n",
              "2000-01-07 -1.791877  0.939007"
            ]
          },
          "metadata": {
            "tags": []
          },
          "execution_count": 41
        }
      ]
    }
  ]
}